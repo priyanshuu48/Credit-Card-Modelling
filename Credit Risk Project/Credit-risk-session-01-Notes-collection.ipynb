{
 "cells": [
  {
   "cell_type": "markdown",
   "id": "8718ca6a",
   "metadata": {},
   "source": [
    "# Credit Risk Modeling Using Machine Learning"
   ]
  },
  {
   "cell_type": "markdown",
   "id": "bbdba35b",
   "metadata": {},
   "source": [
    "## Banking Termninoligies"
   ]
  },
  {
   "cell_type": "markdown",
   "id": "cddb9ec0",
   "metadata": {
    "heading_collapsed": true
   },
   "source": [
    "### Asset"
   ]
  },
  {
   "cell_type": "markdown",
   "id": "bf80dc36",
   "metadata": {
    "hidden": true
   },
   "source": [
    "- **Asset is something that can give some profit to bank finally. (Bank favour)**\n",
    "- Known as Loan Product\n",
    "#### Examples\n",
    "- Housing loan\n",
    "\n",
    "- Personal loan\n",
    "\n",
    "- Vehicle loan\n",
    "\n",
    "- Group loan\n",
    "\n",
    "- Education loan\n",
    "\n",
    "- Credit Card\n",
    "\n",
    "  "
   ]
  },
  {
   "cell_type": "markdown",
   "id": "62cab58c",
   "metadata": {
    "heading_collapsed": true
   },
   "source": [
    "### Liability"
   ]
  },
  {
   "cell_type": "markdown",
   "id": "fa522867",
   "metadata": {
    "hidden": true
   },
   "source": [
    "- **Liability is something that can give some Loss to bank finally. (Customer favour)**\n",
    "#### Examples\n",
    "- Current account\n",
    "\n",
    "- Savings account\n",
    "\n",
    "- Fixed deposit\n",
    "\n",
    "- Recurring Deposit\n",
    "\n",
    "- Term Deposits"
   ]
  },
  {
   "cell_type": "markdown",
   "id": "2655a6e3",
   "metadata": {
    "heading_collapsed": true
   },
   "source": [
    "### NPA"
   ]
  },
  {
   "cell_type": "markdown",
   "id": "4b2d208a",
   "metadata": {
    "hidden": true
   },
   "source": [
    "- **Non Performing Asset**\n",
    "- Loan that is defaulted\n",
    "- Loan account when DPD > 90 days\n"
   ]
  },
  {
   "cell_type": "markdown",
   "id": "a0225d12",
   "metadata": {
    "heading_collapsed": true
   },
   "source": [
    "### Net Non-Performing Assets (NNPA)"
   ]
  },
  {
   "cell_type": "markdown",
   "id": "77df698e",
   "metadata": {
    "hidden": true
   },
   "source": [
    "**Definition:** NNPA represents the portion of a bank's non-performing assets (NPAs) that remains after deducting provisions set aside for potential losses.\n",
    "\n",
    "**Calculation:** NNPA = Gross NPAs - Provisions\n",
    "\n",
    "**Significance:** NNPA gives a more accurate view of a bank's financial health regarding bad loans because it shows the actual potential losses if borrowers default on their NPAs.\n",
    "\n",
    "**Example:**\n",
    "Let's say a bank has the following figures:\n",
    "- Gross NPAs (total value of NPAs): $10 million\n",
    "- Provisions (reserve funds for potential losses): $3 million\n",
    "\n",
    "NNPA = $10 million - $3 million = $7 million\n",
    "\n",
    "This means the bank has $7 million of NPAs after considering provisions."
   ]
  },
  {
   "cell_type": "markdown",
   "id": "d2aef4a5",
   "metadata": {
    "heading_collapsed": true
   },
   "source": [
    "### Gross Non-Performing Assets (GNPA)"
   ]
  },
  {
   "cell_type": "markdown",
   "id": "c6ac6c0e",
   "metadata": {
    "hidden": true
   },
   "source": [
    "**Definition:** GNPA represents the total value of a bank's non-performing assets (NPAs) before accounting for any provisions.\n",
    "\n",
    "**Calculation:** GNPA = Total value of all NPAs (Substandard, Doubtful, and Loss Assets)\n",
    "\n",
    "**Significance:** GNPA provides a broad picture of a bank's asset quality and the overall level of stressed loans on its books.\n",
    "\n",
    "**Example:**\n",
    "Suppose a bank has the following NPAs in different categories:\n",
    "- Substandard Assets: $5 million\n",
    "- Doubtful Debts: $3 million\n",
    "- Loss Assets: $2 million\n",
    "\n",
    "GNPA = $5 million (Substandard) + $3 million (Doubtful) + $2 million (Loss) = $10 million\n",
    "\n",
    "This means the bank has $10 million of NPAs before considering any provisions."
   ]
  },
  {
   "cell_type": "markdown",
   "id": "0efd29d0",
   "metadata": {
    "heading_collapsed": true
   },
   "source": [
    "### Loan Classification Stages"
   ]
  },
  {
   "cell_type": "markdown",
   "id": "e8f3f355",
   "metadata": {
    "hidden": true
   },
   "source": [
    "Let's now explore the stages of loan classification from Days Past Due (DPD) to Write-Off:\n",
    "\n",
    "1. **DPD (Days Past Due):**\n",
    "   - **Definition:** DPD refers to the number of days a borrower has exceeded the due date for a loan payment.\n",
    "   - **Example:** If a borrower's monthly loan payment is due on the 1st of each month and they miss the payment, they enter DPD status. For instance, if the current date is the 15th and the borrower hasn't made the payment, they are 15 days past due.\n",
    "\n",
    "2. **Non-performing Asset (NPA):**\n",
    "   - **Definition:** A loan becomes an NPA if the borrower misses payments for a specific period, often 90 days or more.\n",
    "   - **Example:** If a borrower hasn't made any payments for 90 days on a loan, it is classified as an NPA.\n",
    "\n",
    "3. **Special Mention Account (SMA):**\n",
    "   - **Definition:** SMA refers to loans identified by banks as having a high potential of turning into NPAs.\n",
    "   - **Example:** A loan with consistent delays in payments or signs of financial stress from the borrower may be categorized as SMA.\n",
    "\n",
    "4. **Write-off:**\n",
    "   - **Definition:** A loan is written off when the bank deems it unrecoverable and removes it from active accounts.\n",
    "   - **Example:** If all attempts to recover a loan fail, such as through legal actions or negotiations, the bank may decide to write off the loan as a loss.\n",
    "\n",
    "Understanding these stages helps banks manage risks associated with loans and take appropriate actions to recover funds or minimize losses."
   ]
  },
  {
   "cell_type": "markdown",
   "id": "44b920fe",
   "metadata": {
    "heading_collapsed": true
   },
   "source": [
    "### Disbursed Amount"
   ]
  },
  {
   "cell_type": "markdown",
   "id": "963b99a6",
   "metadata": {
    "hidden": true
   },
   "source": [
    "- DA is a amount given to a customer as loan"
   ]
  },
  {
   "cell_type": "markdown",
   "id": "3c97528f",
   "metadata": {
    "heading_collapsed": true
   },
   "source": [
    "### OSP"
   ]
  },
  {
   "cell_type": "markdown",
   "id": "b918826b",
   "metadata": {
    "hidden": true
   },
   "source": [
    "- **Out Standing Principle**\n",
    "- In simple words OSP is the amount that is remaining to return the loan to bank\n",
    "- OSP should be zero at the end of loan cycle"
   ]
  },
  {
   "cell_type": "markdown",
   "id": "723a7274",
   "metadata": {
    "heading_collapsed": true
   },
   "source": [
    "### DPD"
   ]
  },
  {
   "cell_type": "markdown",
   "id": "ab8107c0",
   "metadata": {
    "hidden": true
   },
   "source": [
    "- **Days Past Due**\n",
    "- **Defaulted** if $DPD > 0$"
   ]
  },
  {
   "cell_type": "markdown",
   "id": "26c3e048",
   "metadata": {
    "heading_collapsed": true
   },
   "source": [
    "### PAR"
   ]
  },
  {
   "cell_type": "markdown",
   "id": "ced9998b",
   "metadata": {
    "hidden": true
   },
   "source": [
    "- **Portfolio At Risk**\n",
    "- OSP when DPD > 0"
   ]
  },
  {
   "cell_type": "markdown",
   "id": "c0855611",
   "metadata": {
    "heading_collapsed": true
   },
   "source": [
    "## Credit Risk Types in Banking"
   ]
  },
  {
   "cell_type": "markdown",
   "id": "e7f2cc80",
   "metadata": {
    "hidden": true
   },
   "source": [
    "- DPD (Zero) : NDA (Non delinquint account) = No default account = Timely payment EMI\n",
    "\n",
    "- DPD (0 to 30) : SMA1 (Standard Monitoring Account)\n",
    "\n",
    "- DPD (31 to 60) : SMA2 (Standard Monitoring Account)\n",
    "\n",
    "- DPD (61 to 90) : SMA3 (Standard Monitoring Account)\n",
    "\n",
    "- DPD (90 to 180) : NPA\n",
    "- DPD (>180) : Writen-off (Loan which is not present)"
   ]
  },
  {
   "cell_type": "markdown",
   "id": "2658b4e2",
   "metadata": {
    "ExecuteTime": {
     "end_time": "2024-04-10T16:58:16.680284Z",
     "start_time": "2024-04-10T16:58:16.674843Z"
    },
    "hidden": true
   },
   "source": [
    "**NNPA (Net Non-Performing Assets)**\n",
    "\n",
    "* **Definition:** This represents the portion of a bank's non-performing assets (NPAs) remaining *after* deducting provisions set aside for potential losses. Provisions are like reserve funds created by banks to anticipate losses on bad loans.\n",
    "* **Calculation:** \n",
    "    NNPA = Gross NPAs – Provisions\n",
    "* **Significance:** NNPA is a more accurate measure of a bank's true financial health with regards to bad loans. It shows the actual potential losses the bank might face if borrowers completely default on their NPAs.\n",
    "\n",
    "**GNPA (Gross Non-Performing Assets)**\n",
    "\n",
    "* **Definition:** This represents the total value of a bank's non-performing assets (NPAs) *before* accounting for any provisions.\n",
    "* **Calculation:**\n",
    "    GNPA =  Total value of all NPAs (Substandard, Doubtful, and Loss Assets)\n",
    "* **Significance:** GNPA offers a broader picture of a bank's asset quality and the overall level of stressed loans on its books.\n",
    "\n",
    "**Markdown Table**\n",
    "\n",
    "| Metric | Definition | Calculation | Significance |\n",
    "|---|---|---|---|\n",
    "| GNPA (Gross Non-Performing Assets) | Total value of NPAs before provisions |  Total value of all NPAs (Substandard, Doubtful, Loss Assets) | Indicates overall level of stressed loans|\n",
    "| NNPA (Net Non-Performing Assets) | Value of NPAs after deducting provisions | Gross NPAs - Provisions |  Reveals potential losses if borrowers default, a better indicator of bank's financial health |\n",
    "\n",
    "**Key Points**\n",
    "\n",
    "* Banks aim to keep both GNPA and NNPA ratios low.\n",
    "* High GNPA and NNPA ratios signal potential financial distress for a bank.\n",
    "* Investors and regulators closely track these metrics to assess a bank's stability.\n",
    " \n"
   ]
  },
  {
   "cell_type": "markdown",
   "id": "6124bd6f",
   "metadata": {
    "hidden": true
   },
   "source": [
    "### NPA Impact"
   ]
  },
  {
   "cell_type": "markdown",
   "id": "9325532a",
   "metadata": {
    "hidden": true
   },
   "source": [
    "- NPA improve = Loan Portfolio quality of the bank will be better = Market sentiment will be good = Stock price will improve"
   ]
  },
  {
   "cell_type": "markdown",
   "id": "21478213",
   "metadata": {},
   "source": [
    "## Datasets"
   ]
  },
  {
   "cell_type": "markdown",
   "id": "5ab7122c",
   "metadata": {
    "heading_collapsed": true
   },
   "source": [
    "### Internal Dataset"
   ]
  },
  {
   "cell_type": "markdown",
   "id": "651910b2",
   "metadata": {
    "hidden": true
   },
   "source": [
    "<table border=\"1\" class=\"dataframe\">\n",
    "  <thead>\n",
    "    <tr style=\"text-align: right;\">\n",
    "      <th>Variable Name</th>\n",
    "      <th>Description</th>\n",
    "    </tr>\n",
    "  </thead>\n",
    "  <tbody>\n",
    "    <tr>\n",
    "      <td>Tot_Closed_T</td>\n",
    "      <td>Total closed trade lines/accounts</td>\n",
    "    </tr>\n",
    "    <tr>\n",
    "      <td>Tot_Active_TL</td>\n",
    "      <td>Total active accounts</td>\n",
    "    </tr>\n",
    "    <tr>\n",
    "      <td>Total_TL_opened_L6M</td>\n",
    "      <td>Total accounts opened in last 6 Months</td>\n",
    "    </tr>\n",
    "    <tr>\n",
    "      <td>Tot_TL_closed_L6M</td>\n",
    "      <td>Total accounts closed in last 6 months</td>\n",
    "    </tr>\n",
    "    <tr>\n",
    "      <td>pct_tl_open_L6M</td>\n",
    "      <td>Percent accounts opened in last 6 months</td>\n",
    "    </tr>\n",
    "    <tr>\n",
    "      <td>pct_tl_closed_L6M</td>\n",
    "      <td>percent accounts closed in last 6 months</td>\n",
    "    </tr>\n",
    "    <tr>\n",
    "      <td>pct_active_tl</td>\n",
    "      <td>Percent active accounts</td>\n",
    "    </tr>\n",
    "    <tr>\n",
    "      <td>pct_closed_tl</td>\n",
    "      <td>Percent closed accounts</td>\n",
    "    </tr>\n",
    "    <tr>\n",
    "      <td>Total_TL_opened_L12M</td>\n",
    "      <td>Total accounts opened in last 12 Months</td>\n",
    "    </tr>\n",
    "    <tr>\n",
    "      <td>Tot_TL_closed_L12M</td>\n",
    "      <td>Total accounts closed in last 12 months</td>\n",
    "    </tr>\n",
    "    <tr>\n",
    "      <td>pct_tl_open_L12M</td>\n",
    "      <td>Percent accounts opened in last 12 months</td>\n",
    "    </tr>\n",
    "    <tr>\n",
    "      <td>pct_tl_closed_L12M</td>\n",
    "      <td>percent accounts closed in last 12 months</td>\n",
    "    </tr>\n",
    "    <tr>\n",
    "      <td>Tot Missed Pmnt</td>\n",
    "      <td>Total missed Payments</td>\n",
    "    </tr>\n",
    "    <tr>\n",
    "      <td>Auto TL</td>\n",
    "      <td>Count Automobile accounts</td>\n",
    "    </tr>\n",
    "    <tr>\n",
    "      <td>CC TL</td>\n",
    "      <td>Count of Credit card accounts</td>\n",
    "    </tr>\n",
    "    <tr>\n",
    "      <td>Consumer_TL</td>\n",
    "      <td>Count of Consumer goods accounts</td>\n",
    "    </tr>\n",
    "    <tr>\n",
    "      <td>Gold TL</td>\n",
    "      <td>Count of Gold loan accounts</td>\n",
    "    </tr>\n",
    "    <tr>\n",
    "      <td>Home_TL</td>\n",
    "      <td>Count of Housing loan accounts</td>\n",
    "    </tr>\n",
    "    <tr>\n",
    "      <td>PLOTL</td>\n",
    "      <td>Count of Personal loan accounts</td>\n",
    "    </tr>\n",
    "    <tr>\n",
    "      <td>Secured_TL</td>\n",
    "      <td>Count of secured accounts</td>\n",
    "    </tr>\n",
    "    <tr>\n",
    "      <td>Unsecured_TL</td>\n",
    "      <td>Count of unsecured accounts</td>\n",
    "    </tr>\n",
    "    <tr>\n",
    "      <td>Other_TL</td>\n",
    "      <td>Count of other accounts</td>\n",
    "    </tr>\n",
    "    <tr>\n",
    "      <td>Age_Oldest_TL</td>\n",
    "      <td>Age of oldest opened account</td>\n",
    "    </tr>\n",
    "    <tr>\n",
    "      <td>Age_Newest_TL</td>\n",
    "      <td>Age of newest opened account</td>\n",
    "    </tr>\n",
    "  </tbody>\n",
    "</table>\n"
   ]
  },
  {
   "cell_type": "markdown",
   "id": "4ba81f0c",
   "metadata": {
    "heading_collapsed": true
   },
   "source": [
    "### External Dataset (Cibil)"
   ]
  },
  {
   "cell_type": "markdown",
   "id": "2eceba04",
   "metadata": {
    "hidden": true
   },
   "source": [
    "<table border=\"1\">\n",
    "  <thead>\n",
    "    <tr>\n",
    "      <th>#</th>\n",
    "      <th>Variable Name</th>\n",
    "      <th>Description</th>\n",
    "    </tr>\n",
    "  </thead>\n",
    "  <tbody>\n",
    "    <tr>\n",
    "      <td>1</td>\n",
    "      <td>time_since_recent_payment</td>\n",
    "      <td>Time Since recent Payment made</td>\n",
    "    </tr>\n",
    "    <tr>\n",
    "      <td>2</td>\n",
    "      <td>time_since_first_deliquency</td>\n",
    "      <td>Time since first Deliquency (missed payment)</td>\n",
    "    </tr>\n",
    "    <tr>\n",
    "      <td>3</td>\n",
    "      <td>time_since_recent_deliquency</td>\n",
    "      <td>Time Since recent Delinquency</td>\n",
    "    </tr>\n",
    "    <tr>\n",
    "      <td>4</td>\n",
    "      <td>num_times_delinquent</td>\n",
    "      <td>Number of times delinquent</td>\n",
    "    </tr>\n",
    "    <tr>\n",
    "      <td>5</td>\n",
    "      <td>max_delinquency_level</td>\n",
    "      <td>Maximum delinquency level</td>\n",
    "    </tr>\n",
    "    <tr>\n",
    "      <td>6</td>\n",
    "      <td>max_recent_level_of_deliq</td>\n",
    "      <td>Maximum recent level of delinquency</td>\n",
    "    </tr>\n",
    "    <tr>\n",
    "      <td>7</td>\n",
    "      <td>num_deliq_6mts</td>\n",
    "      <td>Number of times delinquent in last 6 months</td>\n",
    "    </tr>\n",
    "    <tr>\n",
    "      <td>8</td>\n",
    "      <td>num_deliq_12mts</td>\n",
    "      <td>Number of times delinquent in last 12 months</td>\n",
    "    </tr>\n",
    "    <tr>\n",
    "      <td>9</td>\n",
    "      <td>num_deliq_6_12mts</td>\n",
    "      <td>Number of times delinquent between last 6 months and last 12 months</td>\n",
    "    </tr>\n",
    "    <tr>\n",
    "      <td>10</td>\n",
    "      <td>max_deliq_6mts</td>\n",
    "      <td>Maximum delinquency level in last 6 months</td>\n",
    "    </tr>\n",
    "    <tr>\n",
    "      <td>11</td>\n",
    "      <td>max_deliq_12mts</td>\n",
    "      <td>Maximum delinquency level in last 12 months</td>\n",
    "    </tr>\n",
    "    <tr>\n",
    "      <td>12</td>\n",
    "      <td>num_times_30p_dpd</td>\n",
    "      <td>Number of times 30+ dpd</td>\n",
    "    </tr>\n",
    "    <tr>\n",
    "      <td>13</td>\n",
    "      <td>num_times_60p_dpd</td>\n",
    "      <td>Number of times 60+ dpd</td>\n",
    "    </tr>\n",
    "    <tr>\n",
    "      <td>14</td>\n",
    "      <td>num_std</td>\n",
    "      <td>Number of standard Payments</td>\n",
    "    </tr>\n",
    "    <tr>\n",
    "      <td>15</td>\n",
    "      <td>num_std_6mts</td>\n",
    "      <td>Number of standard Payments in last 6 months</td>\n",
    "    </tr>\n",
    "    <tr>\n",
    "      <td>16</td>\n",
    "      <td>num_std_12mts</td>\n",
    "      <td>Number of standard Payments in last 12 months</td>\n",
    "    </tr>\n",
    "    <tr>\n",
    "      <td>17</td>\n",
    "      <td>num_sub</td>\n",
    "      <td>Number of sub standard payments - not making full payments</td>\n",
    "    </tr>\n",
    "    <tr>\n",
    "      <td>18</td>\n",
    "      <td>num_sub_6mts</td>\n",
    "      <td>Number of sub standard payments in last 6 months</td>\n",
    "    </tr>\n",
    "    <tr>\n",
    "      <td>19</td>\n",
    "      <td>num_sub_12mts</td>\n",
    "      <td>Number of sub standard payments in last 12 months</td>\n",
    "    </tr>\n",
    "    <tr>\n",
    "      <td>20</td>\n",
    "      <td>num_dbt</td>\n",
    "      <td>Number of doubtful payments</td>\n",
    "    </tr>\n",
    "    <tr>\n",
    "      <td>21</td>\n",
    "      <td>num_dbt_6mts</td>\n",
    "      <td>Number of doubtful payments in last 6 months</td>\n",
    "    </tr>\n",
    "    <tr>\n",
    "      <td>22</td>\n",
    "      <td>num_dbt_12mts</td>\n",
    "      <td>Number of doubtful payments in last 12 months</td>\n",
    "    </tr>\n",
    "    <tr>\n",
    "      <td>23</td>\n",
    "      <td>num_Iss</td>\n",
    "<td>Number of loss accounts</td>\n",
    "</tr>\n",
    "<tr>\n",
    "<td>24</td>\n",
    "<td>num_lss_6mts</td>\n",
    "<td>Number of loss accounts in last 6 months</td>\n",
    "</tr>\n",
    "<tr>\n",
    "<td>25</td>\n",
    "<td>num_lss_12mts</td>\n",
    "<td>Number of loss accounts in last 12 months</td>\n",
    "</tr>\n",
    "<tr>\n",
    "<td>26</td>\n",
    "<td>recent_level_of_deliq</td>\n",
    "<td>Recent level of delinquency</td>\n",
    "</tr>\n",
    "<tr>\n",
    "<td>27</td>\n",
    "<td>tot_enq</td>\n",
    "<td>Total enquiries</td>\n",
    "</tr>\n",
    "<tr>\n",
    "<td>28</td>\n",
    "<td>CC_enq</td>\n",
    "<td>Credit card enquiries</td>\n",
    "</tr>\n",
    "<tr>\n",
    "<td>29</td>\n",
    "<td>CC_enq_L6m</td>\n",
    "<td>Credit card enquiries in last 6 months</td>\n",
    "</tr>\n",
    "<tr>\n",
    "<td>30</td>\n",
    "<td>CC_enq_L12m</td>\n",
    "<td>Credit card enquiries in last 12 months</td>\n",
    "</tr>\n",
    "<tr>\n",
    "<td>31</td>\n",
    "<td>PL_enq</td>\n",
    "<td>Personal Loan enquiries</td>\n",
    "</tr>\n",
    "<tr>\n",
    "<td>32</td>\n",
    "<td>PL_enq_L6m</td>\n",
    "<td>Personal Loan enquiries in last 6 months</td>\n",
    "</tr>\n",
    "<tr>\n",
    "<td>33</td>\n",
    "<td>PL_enq_L12m</td>\n",
    "<td>Personal Loan enquiries in last 12 months</td>\n",
    "</tr>\n",
    "<tr>\n",
    "<td>34</td>\n",
    "<td>time_since_recent_enq</td>\n",
    "<td>Time since recent enquiry</td>\n",
    "</tr>\n",
    "<tr>\n",
    "<td>35</td>\n",
    "<td>enq_L12m</td>\n",
    "<td>Enquiries in last 12 months</td>\n",
    "</tr>\n",
    "<tr>\n",
    "<td>36</td>\n",
    "<td>enq_L6m</td>\n",
    "<td>Enquiries in last 6 months</td>\n",
    "</tr>\n",
    "<tr>\n",
    "<td>37</td>\n",
    "<td>enq_L3m</td>\n",
    "<td>Enquiries in last 3 months</td>\n",
    "</tr>\n",
    "<tr>\n",
    "<td>38</td>\n",
    "<td>MARITALSTATUS</td>\n",
    "<td>Marital Status</td>\n",
    "</tr>\n",
    "<tr>\n",
    "<td>39</td>\n",
    "<td>EDUCATION</td>\n",
    "<td>Education level</td>\n",
    "</tr>\n",
    "<tr>\n",
    "<td>AGE</td>\n",
    "<td>Age</td>\n",
    "</tr>\n",
    "<tr>\n",
    "<td>41</td>\n",
    "<td>GENDER</td>\n",
    "<td>Gender</td>\n",
    "</tr>\n",
    "  <tr>\n",
    "      <th>42</th>\n",
    "      <td>NETMONTHLYINCOME</td>\n",
    "      <td>Net monthly income</td>\n",
    "    </tr>\n",
    "      <tr>\n",
    "      <th>43</th>\n",
    "      <td>Time_With_Curr_Empr</td>\n",
    "      <td>Time with current Employer</td>\n",
    "    </tr>\n",
    "    <tr>\n",
    "      <th>44</th>\n",
    "      <td>pct_of_active_TLs_ever</td>\n",
    "      <td>Percent active accounts ever</td>\n",
    "    </tr>\n",
    "    <tr>\n",
    "      <th>45</th>\n",
    "      <td>pct_opened_TLs_L6m_of_L12m</td>\n",
    "      <td>Percent accounts opened in last 6 months to last 12 months</td>\n",
    "    </tr>\n",
    "    <tr>\n",
    "      <th>46</th>\n",
    "      <td>pct_currentBal_all_TL</td>\n",
    "      <td>Percent current balance of all accounts</td>\n",
    "    </tr>\n",
    "    <tr>\n",
    "      <th>47</th>\n",
    "      <td>CC_utilization</td>\n",
    "      <td>Credit card utilization</td>\n",
    "    </tr>\n",
    "    <tr>\n",
    "      <th>48</th>\n",
    "      <td>CC_Flag</td>\n",
    "      <td>Credit card Flag</td>\n",
    "    </tr>\n",
    "    <tr>\n",
    "      <th>49</th>\n",
    "      <td>PL_utilization</td>\n",
    "      <td>Peronal Loan utilization</td>\n",
    "    </tr>\n",
    "    <tr>\n",
    "      <th>50</th>\n",
    "      <td>PL_Flag</td>\n",
    "      <td>Personal Loan Flag</td>\n",
    "    </tr>\n",
    "    <tr>\n",
    "      <th>51</th>\n",
    "      <td>pct_PL_enq_L6m_of_L12m</td>\n",
    "      <td>Percent enquiries PL in last 6 months to last 12 months</td>\n",
    "    </tr>\n",
    "    <tr>\n",
    "      <th>52</th>\n",
    "      <td>pct_CC_enq_L6m_of_L12m</td>\n",
    "      <td>Percent enquiries CC in last 6 months to last 12 months</td>\n",
    "    </tr>\n",
    "    <tr>\n",
    "      <th>53</th>\n",
    "      <td>pct_PL_enq_L6m_of_ever</td>\n",
    "      <td>Percent enquiries PL in last 6 months to last 6 months</td>\n",
    "    </tr>\n",
    "    <tr>\n",
    "      <th>54</th>\n",
    "      <td>pct_CC_enq_L6m_of_ever</td>\n",
    "      <td>Percent enquiries CC in last 6 months to last 6 months</td>\n",
    "    </tr>\n",
    "    <tr>\n",
    "      <th>55</th>\n",
    "      <td>max_unsec_exposure_inPct</td>\n",
    "      <td>Maximum unsecured exposure in percent</td>\n",
    "    </tr>\n",
    "    <tr>\n",
    "      <th>56</th>\n",
    "      <td>HL_Flag</td>\n",
    "      <td>Housing Loan Flag</td>\n",
    "    </tr>\n",
    "    <tr>\n",
    "      <th>57</th>\n",
    "      <td>GL_Flag</td>\n",
    "      <td>Gold Loan Flag</td>\n",
    "    </tr>\n",
    "    <tr>\n",
    "      <th>58</th>\n",
    "      <td>last_prod_enq2</td>\n",
    "      <td>Lates product enquired for</td>\n",
    "    </tr>\n",
    "    <tr>\n",
    "      <th>59</th>\n",
    "      <td>first_prod_enq2</td>\n",
    "      <td>First product enquired for</td>\n",
    "    </tr>\n",
    "    <tr>\n",
    "      <th>60</th>\n",
    "      <td>Credit_Score</td>\n",
    "      <td>Applicant's credit score</td>\n",
    "    </tr>\n",
    "    <tr>\n",
    "      <th>61</th>\n",
    "      <td>Approved_Flag</td>\n",
    "      <td>Priority levels</td>\n",
    "    </tr>\n",
    "</tbody>\n",
    "</table>\n",
    "\n"
   ]
  },
  {
   "cell_type": "markdown",
   "id": "f7fb5274",
   "metadata": {},
   "source": [
    "Accuracy :- Out of total values,how many are correctly predicted\n",
    "\n",
    "Recall :- Out of my total value for a class how many are correctly predicted\n",
    "\n",
    "Precision :-  Out of my total predicted value for a class how many are correctly predicted\n",
    "\n",
    "F1-Score :- 2*P*R/(P+R)"
   ]
  }
 ],
 "metadata": {
  "kernelspec": {
   "display_name": "Python 3 (ipykernel)",
   "language": "python",
   "name": "python3"
  },
  "language_info": {
   "codemirror_mode": {
    "name": "ipython",
    "version": 3
   },
   "file_extension": ".py",
   "mimetype": "text/x-python",
   "name": "python",
   "nbconvert_exporter": "python",
   "pygments_lexer": "ipython3",
   "version": "3.11.5"
  },
  "toc": {
   "base_numbering": 1,
   "nav_menu": {},
   "number_sections": true,
   "sideBar": true,
   "skip_h1_title": false,
   "title_cell": "Table of Contents",
   "title_sidebar": "Contents",
   "toc_cell": false,
   "toc_position": {},
   "toc_section_display": true,
   "toc_window_display": false
  }
 },
 "nbformat": 4,
 "nbformat_minor": 5
}
